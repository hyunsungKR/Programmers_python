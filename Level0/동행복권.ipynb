{
 "cells": [
  {
   "cell_type": "code",
   "execution_count": 3,
   "metadata": {},
   "outputs": [
    {
     "data": {
      "text/plain": [
       "['4조 314630', '1조 516612', '3조 555495', '4조 860325', '5조 629250']"
      ]
     },
     "execution_count": 3,
     "metadata": {},
     "output_type": "execute_result"
    }
   ],
   "source": [
    "import random\n",
    "# 연금복권 720+ 번호 조와 6자리 숫자 형태로 생성 함수 수정\n",
    "def generate_pension_lottery_numbers_with_series(n_sets=5, series_range=(1, 5)):\n",
    "    pension_lottery_sets_with_series = []\n",
    "    for _ in range(n_sets):\n",
    "        # 조는 1~5 중 하나\n",
    "        series = random.randint(*series_range)\n",
    "        # 6자리 숫자 생성\n",
    "        numbers = [random.randint(0, 9) for _ in range(6)]\n",
    "        pension_lottery_sets_with_series.append(f\"{series}조 {''.join(map(str, numbers))}\")\n",
    "    return pension_lottery_sets_with_series\n",
    "\n",
    "# 조와 6자리 숫자 형태로 5세트의 연금복권 720+ 번호 생성\n",
    "pension_lottery_sets_with_series = generate_pension_lottery_numbers_with_series()\n",
    "pension_lottery_sets_with_series\n"
   ]
  },
  {
   "cell_type": "code",
   "execution_count": 2,
   "metadata": {},
   "outputs": [
    {
     "data": {
      "text/plain": [
       "[[1, 5, 8, 9, 23, 31],\n",
       " [3, 5, 11, 28, 30, 35],\n",
       " [15, 25, 31, 33, 38, 45],\n",
       " [5, 26, 27, 40, 41, 42],\n",
       " [4, 18, 30, 31, 37, 39]]"
      ]
     },
     "execution_count": 2,
     "metadata": {},
     "output_type": "execute_result"
    }
   ],
   "source": [
    "\n",
    "\n",
    "# 로또 번호 생성 함수\n",
    "def generate_lotto_numbers(n_sets=5, total_numbers=45, numbers_per_set=6):\n",
    "    lotto_sets = []\n",
    "    for _ in range(n_sets):\n",
    "        lotto_set = sorted(random.sample(range(1, total_numbers+1), numbers_per_set))\n",
    "        lotto_sets.append(lotto_set)\n",
    "    return lotto_sets\n",
    "\n",
    "# 5세트의 로또 번호 생성\n",
    "random_lotto_sets = generate_lotto_numbers()\n",
    "random_lotto_sets\n"
   ]
  },
  {
   "cell_type": "code",
   "execution_count": null,
   "metadata": {},
   "outputs": [],
   "source": []
  }
 ],
 "metadata": {
  "kernelspec": {
   "display_name": "anomalib_env",
   "language": "python",
   "name": "python3"
  },
  "language_info": {
   "codemirror_mode": {
    "name": "ipython",
    "version": 3
   },
   "file_extension": ".py",
   "mimetype": "text/x-python",
   "name": "python",
   "nbconvert_exporter": "python",
   "pygments_lexer": "ipython3",
   "version": "3.10.12"
  }
 },
 "nbformat": 4,
 "nbformat_minor": 2
}
