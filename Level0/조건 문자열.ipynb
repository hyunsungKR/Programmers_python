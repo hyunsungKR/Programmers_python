{
 "cells": [
  {
   "cell_type": "code",
   "execution_count": 1,
   "metadata": {},
   "outputs": [],
   "source": [
    "# 문제 설명\n",
    "# 문자열에 따라 다음과 같이 두 수의 크기를 비교하려고 합니다.\n",
    "\n",
    "# 두 수가 n과 m이라면\n",
    "# \">\", \"=\" : n >= m\n",
    "# \"<\", \"=\" : n <= m\n",
    "# \">\", \"!\" : n > m\n",
    "# \"<\", \"!\" : n < m\n",
    "# 두 문자열 ineq와 eq가 주어집니다. ineq는 \"<\"와 \">\"중 하나고, eq는 \"=\"와 \"!\"중 하나입니다.\n",
    "# 그리고 두 정수 n과 m이 주어질 때, n과 m이 ineq와 eq의 조건에 맞으면 1을 아니면 0을 return하도록 solution 함수를 완성해주세요."
   ]
  },
  {
   "cell_type": "code",
   "execution_count": 6,
   "metadata": {},
   "outputs": [],
   "source": [
    "def solution(ineq, eq, n, m) :\n",
    "    answer = 0\n",
    "    if ineq == '>' and eq == '=':\n",
    "        if n >= m :\n",
    "            answer = 1\n",
    "        else :\n",
    "            answer = 0\n",
    "    elif ineq == '<' and eq == '=':\n",
    "        if n<=m:\n",
    "            answer = 1\n",
    "        else :\n",
    "            answer = 0\n",
    "    elif ineq == '>' and eq == '!':\n",
    "        if n < m:\n",
    "            answer = 1\n",
    "        else :\n",
    "            answer = 0\n",
    "    elif ineq == '<' and eq == '!':\n",
    "        if n < m:\n",
    "            answer = 1\n",
    "        else :\n",
    "            answer = 0\n",
    " \n",
    "    return answer"
   ]
  },
  {
   "cell_type": "code",
   "execution_count": null,
   "metadata": {},
   "outputs": [],
   "source": []
  },
  {
   "cell_type": "code",
   "execution_count": null,
   "metadata": {},
   "outputs": [],
   "source": []
  },
  {
   "cell_type": "code",
   "execution_count": null,
   "metadata": {},
   "outputs": [],
   "source": []
  }
 ],
 "metadata": {
  "kernelspec": {
   "display_name": "anomalib_env",
   "language": "python",
   "name": "python3"
  },
  "language_info": {
   "codemirror_mode": {
    "name": "ipython",
    "version": 3
   },
   "file_extension": ".py",
   "mimetype": "text/x-python",
   "name": "python",
   "nbconvert_exporter": "python",
   "pygments_lexer": "ipython3",
   "version": "3.10.12"
  }
 },
 "nbformat": 4,
 "nbformat_minor": 2
}
