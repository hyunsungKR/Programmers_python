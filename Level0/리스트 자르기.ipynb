{
 "cells": [
  {
   "cell_type": "code",
   "execution_count": 1,
   "metadata": {},
   "outputs": [],
   "source": [
    "# 문제 설명\n",
    "# 정수 n과 정수 3개가 담긴 리스트 slicer 그리고 정수 여러 개가 담긴 리스트 num_list가 주어집니다. \n",
    "# slicer에 담긴 정수를 차례대로 a, b, c라고 할 때, n에 따라 다음과 같이 num_list를 슬라이싱 하려고 합니다.\n",
    "\n",
    "# n = 1 : num_list의 0번 인덱스부터 b번 인덱스까지\n",
    "# n = 2 : num_list의 a번 인덱스부터 마지막 인덱스까지\n",
    "# n = 3 : num_list의 a번 인덱스부터 b번 인덱스까지\n",
    "# n = 4 : num_list의 a번 인덱스부터 b번 인덱스까지 c 간격으로\n",
    "# 올바르게 슬라이싱한 리스트를 return하도록 solution 함수를 완성해주세요.\n",
    "\n"
   ]
  },
  {
   "cell_type": "code",
   "execution_count": 2,
   "metadata": {},
   "outputs": [],
   "source": [
    "def solution(n, slicer, num_list) :\n",
    "    answer = []\n",
    "    a,b,c = slicer\n",
    "    if n == 1:\n",
    "        answer = num_list[0:b+1]\n",
    "    elif n == 2:\n",
    "        answer = num_list[a:]\n",
    "    elif n == 3:\n",
    "        answer = num_list[a:b+1]\n",
    "    else :\n",
    "        answer = num_list[a:b+1:c]\n",
    "    return answer"
   ]
  },
  {
   "cell_type": "code",
   "execution_count": 4,
   "metadata": {},
   "outputs": [
    {
     "data": {
      "text/plain": [
       "[2, 4, 6]"
      ]
     },
     "execution_count": 4,
     "metadata": {},
     "output_type": "execute_result"
    }
   ],
   "source": [
    "solution(4,\t[1, 5, 2],\t[1, 2, 3, 4, 5, 6, 7, 8, 9]\t)"
   ]
  },
  {
   "cell_type": "code",
   "execution_count": null,
   "metadata": {},
   "outputs": [],
   "source": []
  }
 ],
 "metadata": {
  "kernelspec": {
   "display_name": "anomalib_env",
   "language": "python",
   "name": "python3"
  },
  "language_info": {
   "codemirror_mode": {
    "name": "ipython",
    "version": 3
   },
   "file_extension": ".py",
   "mimetype": "text/x-python",
   "name": "python",
   "nbconvert_exporter": "python",
   "pygments_lexer": "ipython3",
   "version": "3.10.12"
  }
 },
 "nbformat": 4,
 "nbformat_minor": 2
}
