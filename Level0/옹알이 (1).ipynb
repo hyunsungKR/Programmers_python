{
 "cells": [
  {
   "cell_type": "code",
   "execution_count": 1,
   "metadata": {},
   "outputs": [],
   "source": [
    "# 문제 설명\n",
    "# 머쓱이는 태어난 지 6개월 된 조카를 돌보고 있습니다. 조카는 아직 \"aya\", \"ye\", \"woo\", \"ma\" 네 가지 발음을 최대 한 번씩 사용해 조합한(이어 붙인) 발음밖에 하지 못합니다.\n",
    "# 문자열 배열 babbling이 매개변수로 주어질 때, 머쓱이의 조카가 발음할 수 있는 단어의 개수를 return하도록 solution 함수를 완성해주세요."
   ]
  },
  {
   "cell_type": "code",
   "execution_count": 17,
   "metadata": {},
   "outputs": [],
   "source": [
    "def solution(babbling) :\n",
    "    num_b = 0\n",
    "    b_list = [\"aya\",\"ye\",\"woo\",\"ma\"]\n",
    "    \n",
    "    for w in babbling :\n",
    "        print(w)\n",
    "        \n",
    "        for j in b_list :\n",
    "            print(j)\n",
    "            \n",
    "            w = w.replace(j,\"\").strip(\"\")\n",
    "            print(w)\n",
    "        if len(w) == 0 :\n",
    "            num_b += 1\n",
    "            \n",
    "    return num_b\n",
    "        "
   ]
  },
  {
   "cell_type": "code",
   "execution_count": 18,
   "metadata": {},
   "outputs": [
    {
     "name": "stdout",
     "output_type": "stream",
     "text": [
      "aya\n",
      "aya\n",
      "\n",
      "ye\n",
      "\n",
      "woo\n",
      "\n",
      "ma\n",
      "\n",
      "yee\n",
      "aya\n",
      "yee\n",
      "ye\n",
      "e\n",
      "woo\n",
      "e\n",
      "ma\n",
      "e\n",
      "u\n",
      "aya\n",
      "u\n",
      "ye\n",
      "u\n",
      "woo\n",
      "u\n",
      "ma\n",
      "u\n",
      "maa\n",
      "aya\n",
      "maa\n",
      "ye\n",
      "maa\n",
      "woo\n",
      "maa\n",
      "ma\n",
      "a\n",
      "wyeoo\n",
      "aya\n",
      "wyeoo\n",
      "ye\n",
      "woo\n",
      "woo\n",
      "\n",
      "ma\n",
      "\n"
     ]
    },
    {
     "data": {
      "text/plain": [
       "2"
      ]
     },
     "execution_count": 18,
     "metadata": {},
     "output_type": "execute_result"
    }
   ],
   "source": [
    "solution([\"aya\", \"yee\", \"u\", \"maa\", \"wyeoo\"])"
   ]
  },
  {
   "cell_type": "code",
   "execution_count": 19,
   "metadata": {},
   "outputs": [
    {
     "name": "stdout",
     "output_type": "stream",
     "text": [
      "ayaye\n",
      "aya\n",
      "ye\n",
      "ye\n",
      "\n",
      "woo\n",
      "\n",
      "ma\n",
      "\n",
      "uuuma\n",
      "aya\n",
      "uuuma\n",
      "ye\n",
      "uuuma\n",
      "woo\n",
      "uuuma\n",
      "ma\n",
      "uuu\n",
      "ye\n",
      "aya\n",
      "ye\n",
      "ye\n",
      "\n",
      "woo\n",
      "\n",
      "ma\n",
      "\n",
      "yemawoo\n",
      "aya\n",
      "yemawoo\n",
      "ye\n",
      "mawoo\n",
      "woo\n",
      "ma\n",
      "ma\n",
      "\n",
      "ayaa\n",
      "aya\n",
      "a\n",
      "ye\n",
      "a\n",
      "woo\n",
      "a\n",
      "ma\n",
      "a\n"
     ]
    },
    {
     "data": {
      "text/plain": [
       "3"
      ]
     },
     "execution_count": 19,
     "metadata": {},
     "output_type": "execute_result"
    }
   ],
   "source": [
    "solution([\"ayaye\", \"uuuma\", \"ye\", \"yemawoo\", \"ayaa\"])"
   ]
  },
  {
   "cell_type": "code",
   "execution_count": null,
   "metadata": {},
   "outputs": [],
   "source": []
  }
 ],
 "metadata": {
  "kernelspec": {
   "display_name": "anomalib_env",
   "language": "python",
   "name": "python3"
  },
  "language_info": {
   "codemirror_mode": {
    "name": "ipython",
    "version": 3
   },
   "file_extension": ".py",
   "mimetype": "text/x-python",
   "name": "python",
   "nbconvert_exporter": "python",
   "pygments_lexer": "ipython3",
   "version": "3.10.12"
  }
 },
 "nbformat": 4,
 "nbformat_minor": 2
}
