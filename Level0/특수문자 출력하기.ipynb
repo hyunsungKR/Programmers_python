{
 "cells": [
  {
   "cell_type": "code",
   "execution_count": 6,
   "metadata": {},
   "outputs": [
    {
     "name": "stdout",
     "output_type": "stream",
     "text": [
      "!@#$%^&*(\\'\"<>?:;\n"
     ]
    }
   ],
   "source": [
    "# 문제 설명\n",
    "# 다음과 같이 출력하도록 코드를 작성해 주세요.\n",
    "\n",
    "# 출력 예시\n",
    "\n",
    "# !@#$%^&*(\\'\"<>?:;\n",
    "print(r'!@#$%^&*(\\'\"<>?:;')"
   ]
  },
  {
   "cell_type": "code",
   "execution_count": null,
   "metadata": {},
   "outputs": [],
   "source": []
  }
 ],
 "metadata": {
  "kernelspec": {
   "display_name": "anomalib_env",
   "language": "python",
   "name": "python3"
  },
  "language_info": {
   "codemirror_mode": {
    "name": "ipython",
    "version": 3
   },
   "file_extension": ".py",
   "mimetype": "text/x-python",
   "name": "python",
   "nbconvert_exporter": "python",
   "pygments_lexer": "ipython3",
   "version": "3.10.12"
  },
  "orig_nbformat": 4
 },
 "nbformat": 4,
 "nbformat_minor": 2
}
