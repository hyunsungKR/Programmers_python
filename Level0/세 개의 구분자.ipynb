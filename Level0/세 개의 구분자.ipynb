{
 "cells": [
  {
   "cell_type": "code",
   "execution_count": 1,
   "metadata": {},
   "outputs": [],
   "source": [
    "# 문제 설명\n",
    "# 임의의 문자열이 주어졌을 때 문자 \"a\", \"b\", \"c\"를 구분자로 사용해 문자열을 나누고자 합니다.\n",
    "\n",
    "# 예를 들어 주어진 문자열이 \"baconlettucetomato\"라면 나눠진 문자열 목록은 [\"onlettu\", \"etom\", \"to\"] 가 됩니다.\n",
    "\n",
    "# 문자열 myStr이 주어졌을 때 위 예시와 같이 \"a\", \"b\", \"c\"를 사용해 나눠진 문자열을 순서대로 저장한 배열을 return 하는 solution 함수를 완성해 주세요.\n",
    "\n",
    "# 단, 두 구분자 사이에 다른 문자가 없을 경우에는 아무것도 저장하지 않으며, return할 배열이 빈 배열이라면 [\"EMPTY\"]를 return 합니다."
   ]
  },
  {
   "cell_type": "code",
   "execution_count": 48,
   "metadata": {},
   "outputs": [],
   "source": [
    "import re\n",
    "def solution(myStr):\n",
    "    split_list = re.split('[abc]', myStr)\n",
    "    non_empty_list = []\n",
    "    for s in split_list:\n",
    "        if s:  # 빈 문자열이 아닌 경우에만 리스트에 추가\n",
    "            non_empty_list.append(s)\n",
    "    \n",
    "    if non_empty_list :\n",
    "        return non_empty_list\n",
    "    else :\n",
    "        return [\"EMPTY\"]\n",
    "    "
   ]
  },
  {
   "cell_type": "code",
   "execution_count": 51,
   "metadata": {},
   "outputs": [
    {
     "data": {
      "text/plain": [
       "['onlettu', 'etom', 'to']"
      ]
     },
     "execution_count": 51,
     "metadata": {},
     "output_type": "execute_result"
    }
   ],
   "source": [
    "solution(\"baconlettucetomato\")"
   ]
  },
  {
   "cell_type": "code",
   "execution_count": 52,
   "metadata": {},
   "outputs": [
    {
     "data": {
      "text/plain": [
       "['EMPTY']"
      ]
     },
     "execution_count": 52,
     "metadata": {},
     "output_type": "execute_result"
    }
   ],
   "source": [
    "solution(\"cabab\")"
   ]
  },
  {
   "cell_type": "code",
   "execution_count": null,
   "metadata": {},
   "outputs": [],
   "source": []
  }
 ],
 "metadata": {
  "kernelspec": {
   "display_name": "anomalib_env",
   "language": "python",
   "name": "python3"
  },
  "language_info": {
   "codemirror_mode": {
    "name": "ipython",
    "version": 3
   },
   "file_extension": ".py",
   "mimetype": "text/x-python",
   "name": "python",
   "nbconvert_exporter": "python",
   "pygments_lexer": "ipython3",
   "version": "3.10.12"
  }
 },
 "nbformat": 4,
 "nbformat_minor": 2
}
