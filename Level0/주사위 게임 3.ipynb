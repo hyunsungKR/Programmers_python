{
 "cells": [
  {
   "cell_type": "code",
   "execution_count": 1,
   "metadata": {},
   "outputs": [],
   "source": [
    "# 문제 설명\n",
    "# 1부터 6까지 숫자가 적힌 주사위가 네 개 있습니다. 네 주사위를 굴렸을 때 나온 숫자에 따라 다음과 같은 점수를 얻습니다.\n",
    "\n",
    "# 네 주사위에서 나온 숫자가 모두 p로 같다면 1111 × p점을 얻습니다.\n",
    "# 세 주사위에서 나온 숫자가 p로 같고 나머지 다른 주사위에서 나온 숫자가 q(p ≠ q)라면 (10 × p + q)2 점을 얻습니다.\n",
    "# 주사위가 두 개씩 같은 값이 나오고, 나온 숫자를 각각 p, q(p ≠ q)라고 한다면 (p + q) × |p - q|점을 얻습니다.\n",
    "# 어느 두 주사위에서 나온 숫자가 p로 같고 나머지 두 주사위에서 나온 숫자가 각각 p와 다른 q, r(q ≠ r)이라면 q × r점을 얻습니다.\n",
    "# 네 주사위에 적힌 숫자가 모두 다르다면 나온 숫자 중 가장 작은 숫자 만큼의 점수를 얻습니다.\n",
    "# 네 주사위를 굴렸을 때 나온 숫자가 정수 매개변수 a, b, c, d로 주어질 때, 얻는 점수를 return 하는 solution 함수를 작성해 주세요."
   ]
  },
  {
   "cell_type": "code",
   "execution_count": 22,
   "metadata": {},
   "outputs": [],
   "source": [
    "from collections import Counter\n",
    "def solution(a, b, c, d):\n",
    "    \n",
    "    answer = 0\n",
    "    dice = [a,b,c,d]\n",
    "    freq = Counter(dice)\n",
    "    \n",
    "    if len(freq) == 1 :    \n",
    "        answer=1111 * a\n",
    "        \n",
    "    elif len(freq) == 2 :\n",
    "        key1, key2 = freq.keys()\n",
    "        if freq[key1] == 2:\n",
    "            # [2,2]의 빈도분포 예) [3,3,4,4]\n",
    "            answer = (key1 + key2) * abs(key1 - key2)\n",
    "        else :\n",
    "            # [1,3] 또는 [3,1]의 빈도 분포 예) [3,3,3,4]\n",
    "            if freq[key1] == 3:\n",
    "                three_times_val = key1\n",
    "                one_times_val = key2\n",
    "            else :\n",
    "                three_times_val = key2\n",
    "                one_times_val = key1\n",
    "            answer = (10 * three_times_val + one_times_val) ** 2\n",
    "    # 세 종류의 주사위 값이 나온 경우 예) [1,1,2,3]\n",
    "    elif len(freq) == 3:\n",
    "        for key, value in freq.items():\n",
    "            if value == 1:  # 빈도가 1인 주사위 값을 찾음\n",
    "                answer = key\n",
    "    \n",
    "    # 모든 주사위 값이 서로 다른 경우\n",
    "    else:\n",
    "        answer = min(dice)\n",
    "                \n",
    "    return answer"
   ]
  },
  {
   "cell_type": "code",
   "execution_count": 26,
   "metadata": {},
   "outputs": [
    {
     "data": {
      "text/plain": [
       "6"
      ]
     },
     "execution_count": 26,
     "metadata": {},
     "output_type": "execute_result"
    }
   ],
   "source": [
    "solution(2,5,2,6)"
   ]
  },
  {
   "cell_type": "code",
   "execution_count": null,
   "metadata": {},
   "outputs": [],
   "source": []
  },
  {
   "cell_type": "code",
   "execution_count": null,
   "metadata": {},
   "outputs": [],
   "source": []
  }
 ],
 "metadata": {
  "kernelspec": {
   "display_name": "anomalib_env",
   "language": "python",
   "name": "python3"
  },
  "language_info": {
   "codemirror_mode": {
    "name": "ipython",
    "version": 3
   },
   "file_extension": ".py",
   "mimetype": "text/x-python",
   "name": "python",
   "nbconvert_exporter": "python",
   "pygments_lexer": "ipython3",
   "version": "3.10.12"
  }
 },
 "nbformat": 4,
 "nbformat_minor": 2
}
