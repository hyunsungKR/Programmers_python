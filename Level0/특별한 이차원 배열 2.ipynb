{
 "cells": [
  {
   "cell_type": "code",
   "execution_count": 1,
   "metadata": {},
   "outputs": [],
   "source": [
    "# 문제 설명\n",
    "# n × n 크기의 이차원 배열 arr이 매개변수로 주어질 때, arr이 다음을 만족하면 1을 아니라면 0을 return 하는 solution 함수를 작성해 주세요.\n",
    "\n",
    "# 0 ≤ i, j < n인 정수 i, j에 대하여 arr[i][j] = arr[j][i]"
   ]
  },
  {
   "cell_type": "code",
   "execution_count": 2,
   "metadata": {},
   "outputs": [],
   "source": [
    "def solution(arr):\n",
    "    n = len(arr)\n",
    "    \n",
    "    # 대칭 행렬 여부를 판단합니다.\n",
    "    for i in range(n):\n",
    "        for j in range(i+1, n):  # 주대각선을 포함한 한쪽 절반만 확인합니다.\n",
    "            if arr[i][j] != arr[j][i]:\n",
    "                return 0  # 대칭 행렬 조건을 만족하지 않으면 0을 반환\n",
    "    \n",
    "    # 모든 요소가 대칭 행렬 조건을 만족하면 1을 반환합니다.\n",
    "    return 1\n"
   ]
  },
  {
   "cell_type": "code",
   "execution_count": 3,
   "metadata": {},
   "outputs": [
    {
     "data": {
      "text/plain": [
       "1"
      ]
     },
     "execution_count": 3,
     "metadata": {},
     "output_type": "execute_result"
    }
   ],
   "source": [
    "solution([[5, 192, 33], [192, 72, 95], [33, 95, 999]])"
   ]
  },
  {
   "cell_type": "code",
   "execution_count": null,
   "metadata": {},
   "outputs": [],
   "source": []
  }
 ],
 "metadata": {
  "kernelspec": {
   "display_name": "anomalib_env",
   "language": "python",
   "name": "python3"
  },
  "language_info": {
   "codemirror_mode": {
    "name": "ipython",
    "version": 3
   },
   "file_extension": ".py",
   "mimetype": "text/x-python",
   "name": "python",
   "nbconvert_exporter": "python",
   "pygments_lexer": "ipython3",
   "version": "3.10.12"
  }
 },
 "nbformat": 4,
 "nbformat_minor": 2
}
