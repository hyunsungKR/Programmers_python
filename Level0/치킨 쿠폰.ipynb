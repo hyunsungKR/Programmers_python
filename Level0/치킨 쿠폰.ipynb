{
 "cells": [
  {
   "cell_type": "code",
   "execution_count": 1,
   "metadata": {},
   "outputs": [],
   "source": [
    "# 문제 설명\n",
    "# 프로그래머스 치킨은 치킨을 시켜먹으면 한 마리당 쿠폰을 한 장 발급합니다. 쿠폰을 열 장 모으면 치킨을 한 마리 서비스로 받을 수 있고, \n",
    "# 서비스 치킨에도 쿠폰이 발급됩니다. \n",
    "# 시켜먹은 치킨의 수 chicken이 매개변수로 주어질 때 받을 수 있는 최대 서비스 치킨의 수를 return하도록 solution 함수를 완성해주세요."
   ]
  },
  {
   "cell_type": "code",
   "execution_count": 24,
   "metadata": {},
   "outputs": [],
   "source": [
    "def solution(chicken):\n",
    "    # 받을 수 있는 총 서비스 치킨의 수\n",
    "    total_service_chicken = 0\n",
    "    \n",
    "    # 남은 쿠폰 수\n",
    "    coupons = chicken\n",
    "    \n",
    "    # 서비스 치킨을 더 이상 받을 수 없을 때까지 반복\n",
    "    while coupons >= 10:\n",
    "        # 현재 쿠폰으로 받을 수 있는 서비스 치킨의 수\n",
    "        service_chicken = coupons // 10\n",
    "        # 서비스 치킨으로 인해 발급받는 쿠폰의 수\n",
    "        new_coupons = service_chicken\n",
    "        \n",
    "        # 총 서비스 치킨의 수 업데이트\n",
    "        total_service_chicken += service_chicken\n",
    "        # 남은 쿠폰 수 업데이트 (사용한 쿠폰 제외 + 서비스 치킨으로 인한 새 쿠폰)\n",
    "        coupons = coupons % 10 + new_coupons\n",
    "    \n",
    "    return total_service_chicken"
   ]
  },
  {
   "cell_type": "code",
   "execution_count": 25,
   "metadata": {},
   "outputs": [
    {
     "data": {
      "text/plain": [
       "120"
      ]
     },
     "execution_count": 25,
     "metadata": {},
     "output_type": "execute_result"
    }
   ],
   "source": [
    "solution(1081)"
   ]
  },
  {
   "cell_type": "code",
   "execution_count": null,
   "metadata": {},
   "outputs": [],
   "source": []
  }
 ],
 "metadata": {
  "kernelspec": {
   "display_name": "anomalib_env",
   "language": "python",
   "name": "python3"
  },
  "language_info": {
   "codemirror_mode": {
    "name": "ipython",
    "version": 3
   },
   "file_extension": ".py",
   "mimetype": "text/x-python",
   "name": "python",
   "nbconvert_exporter": "python",
   "pygments_lexer": "ipython3",
   "version": "3.10.12"
  }
 },
 "nbformat": 4,
 "nbformat_minor": 2
}
