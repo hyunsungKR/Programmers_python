{
 "cells": [
  {
   "cell_type": "code",
   "execution_count": 1,
   "metadata": {},
   "outputs": [
    {
     "name": "stdout",
     "output_type": "stream",
     "text": [
      "stringstringstringstringstring\n"
     ]
    }
   ],
   "source": [
    "# 문제 설명\n",
    "# 문자열 str과 정수 n이 주어집니다.\n",
    "# str이 n번 반복된 문자열을 만들어 출력하는 코드를 작성해 보세요.\n",
    "\n",
    "# 입력 \n",
    "# string 5\n",
    "\n",
    "# 출력 \n",
    "# stringstringstringstringstring\n",
    "userInput = input()\n",
    "userInput = userInput.split()\n",
    "# print(userInput)\n",
    "str = userInput[0]\n",
    "number = int(userInput[1])\n",
    "print(str*number)"
   ]
  },
  {
   "cell_type": "code",
   "execution_count": null,
   "metadata": {},
   "outputs": [],
   "source": []
  }
 ],
 "metadata": {
  "kernelspec": {
   "display_name": "anomalib_env",
   "language": "python",
   "name": "python3"
  },
  "language_info": {
   "codemirror_mode": {
    "name": "ipython",
    "version": 3
   },
   "file_extension": ".py",
   "mimetype": "text/x-python",
   "name": "python",
   "nbconvert_exporter": "python",
   "pygments_lexer": "ipython3",
   "version": "3.10.12"
  },
  "orig_nbformat": 4
 },
 "nbformat": 4,
 "nbformat_minor": 2
}
