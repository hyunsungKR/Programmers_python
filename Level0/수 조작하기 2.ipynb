{
 "cells": [
  {
   "cell_type": "code",
   "execution_count": 3,
   "metadata": {},
   "outputs": [],
   "source": [
    "# 문제 설명\n",
    "# 정수 배열 numLog가 주어집니다. 처음에 numLog[0]에서 부터 시작해 \"w\", \"a\", \"s\", \"d\"로 이루어진 문자열을 입력으로 받아 순서대로 다음과 같은 조작을 했다고 합시다.\n",
    "\n",
    "# \"w\" : 수에 1을 더한다.\n",
    "# \"s\" : 수에 1을 뺀다.\n",
    "# \"d\" : 수에 10을 더한다.\n",
    "# \"a\" : 수에 10을 뺀다.\n",
    "# 그리고 매번 조작을 할 때마다 결괏값을 기록한 정수 배열이 numLog입니다. 즉, numLog[i]는 numLog[0]로부터 총 i번의 조작을 가한 결과가 저장되어 있습니다.\n",
    "\n",
    "# 주어진 정수 배열 numLog에 대해 조작을 위해 입력받은 문자열을 return 하는 solution 함수를 완성해 주세요."
   ]
  },
  {
   "cell_type": "code",
   "execution_count": 14,
   "metadata": {},
   "outputs": [],
   "source": [
    "def solution(numLog) :\n",
    "    answer = \"\"\n",
    "    for i in range((len(numLog)-1)) :\n",
    "        if numLog[i+1] == numLog[i] + 1 :\n",
    "            answer += \"w\"\n",
    "        elif numLog[i+1] == numLog[i] - 1 :\n",
    "            answer += \"a\"\n",
    "        elif numLog[i+1] == numLog[i] + 10 :\n",
    "            answer += \"s\"\n",
    "        else :\n",
    "            answer += \"d\"   \n",
    "    return answer"
   ]
  },
  {
   "cell_type": "code",
   "execution_count": 13,
   "metadata": {},
   "outputs": [
    {
     "data": {
      "text/plain": [
       "'wasdwasdaaw'"
      ]
     },
     "execution_count": 13,
     "metadata": {},
     "output_type": "execute_result"
    }
   ],
   "source": [
    "solution([0, 1, 0, 10, 0, 1, 0, 10, 0, -1, -2, -1])"
   ]
  },
  {
   "cell_type": "code",
   "execution_count": null,
   "metadata": {},
   "outputs": [],
   "source": []
  }
 ],
 "metadata": {
  "kernelspec": {
   "display_name": "anomalib_env",
   "language": "python",
   "name": "python3"
  },
  "language_info": {
   "codemirror_mode": {
    "name": "ipython",
    "version": 3
   },
   "file_extension": ".py",
   "mimetype": "text/x-python",
   "name": "python",
   "nbconvert_exporter": "python",
   "pygments_lexer": "ipython3",
   "version": "3.10.12"
  }
 },
 "nbformat": 4,
 "nbformat_minor": 2
}
