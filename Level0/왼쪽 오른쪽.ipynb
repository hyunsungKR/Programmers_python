{
 "cells": [
  {
   "cell_type": "code",
   "execution_count": 1,
   "metadata": {},
   "outputs": [],
   "source": [
    "# 문제 설명\n",
    "# 문자열 리스트 str_list에는 \"u\", \"d\", \"l\", \"r\" 네 개의 문자열이 여러 개 저장되어 있습니다.\n",
    "# str_list에서 \"l\"과 \"r\" 중 먼저 나오는 문자열이 \"l\"이라면 해당 문자열을 기준으로 왼쪽에 있는 문자열들을 순서대로 담은 리스트를,\n",
    "# 먼저 나오는 문자열이 \"r\"이라면 해당 문자열을 기준으로 오른쪽에 있는 문자열들을 순서대로 담은 리스트를 return하도록 solution 함수를 완성해주세요. \"l\"이나 \"r\"이 없다면 빈 리스트를 return합니다."
   ]
  },
  {
   "cell_type": "code",
   "execution_count": 20,
   "metadata": {},
   "outputs": [],
   "source": [
    "def solution(str_list) :\n",
    "    \n",
    "    if \"l\" not in str_list and \"r\" not in str_list:\n",
    "        return [] # 빈 리스트 반환\n",
    "\n",
    "    for i, char in enumerate(str_list):\n",
    "        \n",
    "        if char == \"l\":\n",
    "            return str_list[:i]\n",
    "        elif char == \"r\":\n",
    "            return str_list[i+1:]\n",
    "             \n",
    "            \n",
    "             \n",
    "        \n",
    "        "
   ]
  },
  {
   "cell_type": "code",
   "execution_count": 21,
   "metadata": {},
   "outputs": [
    {
     "data": {
      "text/plain": [
       "['u', 'u']"
      ]
     },
     "execution_count": 21,
     "metadata": {},
     "output_type": "execute_result"
    }
   ],
   "source": [
    "solution([\"u\", \"u\", \"l\", \"r\"])"
   ]
  },
  {
   "cell_type": "code",
   "execution_count": null,
   "metadata": {},
   "outputs": [],
   "source": []
  }
 ],
 "metadata": {
  "kernelspec": {
   "display_name": "anomalib_env",
   "language": "python",
   "name": "python3"
  },
  "language_info": {
   "codemirror_mode": {
    "name": "ipython",
    "version": 3
   },
   "file_extension": ".py",
   "mimetype": "text/x-python",
   "name": "python",
   "nbconvert_exporter": "python",
   "pygments_lexer": "ipython3",
   "version": "3.10.12"
  }
 },
 "nbformat": 4,
 "nbformat_minor": 2
}
