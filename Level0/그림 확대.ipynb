{
 "cells": [
  {
   "cell_type": "code",
   "execution_count": 1,
   "metadata": {},
   "outputs": [],
   "source": [
    "# 문제 설명\n",
    "# 직사각형 형태의 그림 파일이 있고, 이 그림 파일은 1 × 1 크기의 정사각형 크기의 픽셀로 이루어져 있습니다. 이 그림 파일을 나타낸 문자열 배열 picture과 정수 k가 매개변수로 주어질 때,\n",
    "# 이 그림 파일을 가로 세로로 k배 늘린 그림 파일을 나타내도록 문자열 배열을 return 하는 solution 함수를 작성해 주세요."
   ]
  },
  {
   "cell_type": "code",
   "execution_count": 12,
   "metadata": {},
   "outputs": [],
   "source": [
    "def solution(picture, k):\n",
    "    p_list = []\n",
    "    for row in picture:\n",
    "        # 각 행에 있는 각 문자를 k번 반복하여 확대\n",
    "        expanded_row = ''.join([char * k for char in row])\n",
    "        # 확대된 각 행을 k번 반복하여 p_list에 추가\n",
    "        for _ in range(k):\n",
    "            p_list.append(expanded_row)\n",
    "    \n",
    "    return p_list"
   ]
  },
  {
   "cell_type": "code",
   "execution_count": 13,
   "metadata": {},
   "outputs": [
    {
     "data": {
      "text/plain": [
       "['..xxxx......xxxx..',\n",
       " '..xxxx......xxxx..',\n",
       " 'xx....xx..xx....xx',\n",
       " 'xx....xx..xx....xx',\n",
       " 'xx......xx......xx',\n",
       " 'xx......xx......xx',\n",
       " '..xx..........xx..',\n",
       " '..xx..........xx..',\n",
       " '....xx......xx....',\n",
       " '....xx......xx....',\n",
       " '......xx..xx......',\n",
       " '......xx..xx......',\n",
       " '........xx........',\n",
       " '........xx........']"
      ]
     },
     "execution_count": 13,
     "metadata": {},
     "output_type": "execute_result"
    }
   ],
   "source": [
    "solution([\".xx...xx.\", \"x..x.x..x\", \"x...x...x\", \".x.....x.\", \"..x...x..\", \"...x.x...\", \"....x....\"],2)"
   ]
  },
  {
   "cell_type": "code",
   "execution_count": null,
   "metadata": {},
   "outputs": [],
   "source": []
  }
 ],
 "metadata": {
  "kernelspec": {
   "display_name": "anomalib_env",
   "language": "python",
   "name": "python3"
  },
  "language_info": {
   "codemirror_mode": {
    "name": "ipython",
    "version": 3
   },
   "file_extension": ".py",
   "mimetype": "text/x-python",
   "name": "python",
   "nbconvert_exporter": "python",
   "pygments_lexer": "ipython3",
   "version": "3.10.12"
  }
 },
 "nbformat": 4,
 "nbformat_minor": 2
}
